{
 "cells": [
  {
   "cell_type": "markdown",
   "metadata": {
    "id": "2EJdo5GuXZwO"
   },
   "source": [
    "# <center>**Behavioural Segmentation of EVs**<center>\n",
    "\n",
    "---\n",
    "\n",
    "\n",
    "\n",
    "---\n",
    "\n"
   ]
  },
  {
   "cell_type": "markdown",
   "metadata": {
    "id": "VepianXDY7Nx"
   },
   "source": [
    "**Import all the necessary Library**"
   ]
  },
  {
   "cell_type": "code",
   "execution_count": 1,
   "metadata": {
    "id": "ACNLSsM7XFNm"
   },
   "outputs": [],
   "source": [
    "import numpy as np \n",
    "import pandas as pd\n",
    "import seaborn as sns\n",
    "import matplotlib.pyplot as plt\n",
    "import plotly.express as px \n",
    "import kaleido"
   ]
  },
  {
   "cell_type": "markdown",
   "metadata": {
    "id": "40cvZxL8ZphZ"
   },
   "source": [
    "Social demographic data like age,gender,income,based on which we could know which people to target"
   ]
  },
  {
   "cell_type": "code",
   "execution_count": 2,
   "metadata": {
    "id": "pdotlaHTZ8Hy"
   },
   "outputs": [],
   "source": [
    "# This data contains the details about consumers who purchased an EV\n",
    "df = pd.read_csv(\"behavioural_dataset.csv\")"
   ]
  },
  {
   "cell_type": "code",
   "execution_count": 3,
   "metadata": {
    "colab": {
     "base_uri": "https://localhost:8080/",
     "height": 206
    },
    "id": "_ZLY5NtqaIxq",
    "outputId": "71b7be01-337c-4bc6-a70a-849a0c941fe2"
   },
   "outputs": [
    {
     "data": {
      "text/html": [
       "<div>\n",
       "<style scoped>\n",
       "    .dataframe tbody tr th:only-of-type {\n",
       "        vertical-align: middle;\n",
       "    }\n",
       "\n",
       "    .dataframe tbody tr th {\n",
       "        vertical-align: top;\n",
       "    }\n",
       "\n",
       "    .dataframe thead th {\n",
       "        text-align: right;\n",
       "    }\n",
       "</style>\n",
       "<table border=\"1\" class=\"dataframe\">\n",
       "  <thead>\n",
       "    <tr style=\"text-align: right;\">\n",
       "      <th></th>\n",
       "      <th>Age</th>\n",
       "      <th>Profession</th>\n",
       "      <th>Marrital Status</th>\n",
       "      <th>Education</th>\n",
       "      <th>No of Dependents</th>\n",
       "      <th>Personal loan</th>\n",
       "      <th>Total Salary</th>\n",
       "      <th>Price</th>\n",
       "    </tr>\n",
       "  </thead>\n",
       "  <tbody>\n",
       "    <tr>\n",
       "      <th>0</th>\n",
       "      <td>27</td>\n",
       "      <td>Salaried</td>\n",
       "      <td>Single</td>\n",
       "      <td>Post Graduate</td>\n",
       "      <td>0</td>\n",
       "      <td>Yes</td>\n",
       "      <td>800000</td>\n",
       "      <td>800000</td>\n",
       "    </tr>\n",
       "    <tr>\n",
       "      <th>1</th>\n",
       "      <td>35</td>\n",
       "      <td>Salaried</td>\n",
       "      <td>Married</td>\n",
       "      <td>Post Graduate</td>\n",
       "      <td>2</td>\n",
       "      <td>Yes</td>\n",
       "      <td>2000000</td>\n",
       "      <td>1000000</td>\n",
       "    </tr>\n",
       "    <tr>\n",
       "      <th>2</th>\n",
       "      <td>45</td>\n",
       "      <td>Business</td>\n",
       "      <td>Married</td>\n",
       "      <td>Graduate</td>\n",
       "      <td>4</td>\n",
       "      <td>Yes</td>\n",
       "      <td>1800000</td>\n",
       "      <td>1200000</td>\n",
       "    </tr>\n",
       "    <tr>\n",
       "      <th>3</th>\n",
       "      <td>41</td>\n",
       "      <td>Business</td>\n",
       "      <td>Married</td>\n",
       "      <td>Post Graduate</td>\n",
       "      <td>3</td>\n",
       "      <td>No</td>\n",
       "      <td>2200000</td>\n",
       "      <td>1200000</td>\n",
       "    </tr>\n",
       "    <tr>\n",
       "      <th>4</th>\n",
       "      <td>31</td>\n",
       "      <td>Salaried</td>\n",
       "      <td>Married</td>\n",
       "      <td>Post Graduate</td>\n",
       "      <td>2</td>\n",
       "      <td>Yes</td>\n",
       "      <td>2600000</td>\n",
       "      <td>1600000</td>\n",
       "    </tr>\n",
       "  </tbody>\n",
       "</table>\n",
       "</div>"
      ],
      "text/plain": [
       "   Age Profession Marrital Status      Education  No of Dependents  \\\n",
       "0   27   Salaried          Single  Post Graduate                 0   \n",
       "1   35   Salaried         Married  Post Graduate                 2   \n",
       "2   45   Business         Married       Graduate                 4   \n",
       "3   41   Business         Married  Post Graduate                 3   \n",
       "4   31   Salaried         Married  Post Graduate                 2   \n",
       "\n",
       "  Personal loan  Total Salary    Price  \n",
       "0           Yes        800000   800000  \n",
       "1           Yes       2000000  1000000  \n",
       "2           Yes       1800000  1200000  \n",
       "3            No       2200000  1200000  \n",
       "4           Yes       2600000  1600000  "
      ]
     },
     "execution_count": 3,
     "metadata": {},
     "output_type": "execute_result"
    }
   ],
   "source": [
    "df.head()"
   ]
  },
  {
   "cell_type": "markdown",
   "metadata": {
    "id": "daemptVGaurE"
   },
   "source": [
    "###**Information about Dataset**"
   ]
  },
  {
   "cell_type": "code",
   "execution_count": 4,
   "metadata": {
    "colab": {
     "base_uri": "https://localhost:8080/"
    },
    "id": "gah-RhhQaie3",
    "outputId": "182391df-0eba-4c11-e454-29f4ad40926b"
   },
   "outputs": [
    {
     "name": "stdout",
     "output_type": "stream",
     "text": [
      "<class 'pandas.core.frame.DataFrame'>\n",
      "RangeIndex: 99 entries, 0 to 98\n",
      "Data columns (total 8 columns):\n",
      " #   Column            Non-Null Count  Dtype \n",
      "---  ------            --------------  ----- \n",
      " 0   Age               99 non-null     int64 \n",
      " 1   Profession        99 non-null     object\n",
      " 2   Marrital Status   99 non-null     object\n",
      " 3   Education         99 non-null     object\n",
      " 4   No of Dependents  99 non-null     int64 \n",
      " 5   Personal loan     99 non-null     object\n",
      " 6   Total Salary      99 non-null     int64 \n",
      " 7   Price             99 non-null     int64 \n",
      "dtypes: int64(4), object(4)\n",
      "memory usage: 6.3+ KB\n"
     ]
    }
   ],
   "source": [
    "df.info()"
   ]
  },
  {
   "cell_type": "markdown",
   "metadata": {
    "id": "QqBRvPEoa1bG"
   },
   "source": [
    "### Description of dataset"
   ]
  },
  {
   "cell_type": "code",
   "execution_count": 5,
   "metadata": {
    "colab": {
     "base_uri": "https://localhost:8080/",
     "height": 300
    },
    "id": "iF9yYlLYabA-",
    "outputId": "35d06cf4-6f53-44f3-8820-629e38363807"
   },
   "outputs": [
    {
     "data": {
      "text/html": [
       "<div>\n",
       "<style scoped>\n",
       "    .dataframe tbody tr th:only-of-type {\n",
       "        vertical-align: middle;\n",
       "    }\n",
       "\n",
       "    .dataframe tbody tr th {\n",
       "        vertical-align: top;\n",
       "    }\n",
       "\n",
       "    .dataframe thead th {\n",
       "        text-align: right;\n",
       "    }\n",
       "</style>\n",
       "<table border=\"1\" class=\"dataframe\">\n",
       "  <thead>\n",
       "    <tr style=\"text-align: right;\">\n",
       "      <th></th>\n",
       "      <th>Age</th>\n",
       "      <th>No of Dependents</th>\n",
       "      <th>Total Salary</th>\n",
       "      <th>Price</th>\n",
       "    </tr>\n",
       "  </thead>\n",
       "  <tbody>\n",
       "    <tr>\n",
       "      <th>count</th>\n",
       "      <td>99.000000</td>\n",
       "      <td>99.000000</td>\n",
       "      <td>9.900000e+01</td>\n",
       "      <td>9.900000e+01</td>\n",
       "    </tr>\n",
       "    <tr>\n",
       "      <th>mean</th>\n",
       "      <td>36.313131</td>\n",
       "      <td>2.181818</td>\n",
       "      <td>2.270707e+06</td>\n",
       "      <td>1.194040e+06</td>\n",
       "    </tr>\n",
       "    <tr>\n",
       "      <th>std</th>\n",
       "      <td>6.246054</td>\n",
       "      <td>1.335265</td>\n",
       "      <td>1.050777e+06</td>\n",
       "      <td>4.376955e+05</td>\n",
       "    </tr>\n",
       "    <tr>\n",
       "      <th>min</th>\n",
       "      <td>26.000000</td>\n",
       "      <td>0.000000</td>\n",
       "      <td>2.000000e+05</td>\n",
       "      <td>1.100000e+05</td>\n",
       "    </tr>\n",
       "    <tr>\n",
       "      <th>25%</th>\n",
       "      <td>31.000000</td>\n",
       "      <td>2.000000</td>\n",
       "      <td>1.550000e+06</td>\n",
       "      <td>8.000000e+05</td>\n",
       "    </tr>\n",
       "    <tr>\n",
       "      <th>50%</th>\n",
       "      <td>36.000000</td>\n",
       "      <td>2.000000</td>\n",
       "      <td>2.100000e+06</td>\n",
       "      <td>1.200000e+06</td>\n",
       "    </tr>\n",
       "    <tr>\n",
       "      <th>75%</th>\n",
       "      <td>41.000000</td>\n",
       "      <td>3.000000</td>\n",
       "      <td>2.700000e+06</td>\n",
       "      <td>1.500000e+06</td>\n",
       "    </tr>\n",
       "    <tr>\n",
       "      <th>max</th>\n",
       "      <td>51.000000</td>\n",
       "      <td>4.000000</td>\n",
       "      <td>5.200000e+06</td>\n",
       "      <td>3.000000e+06</td>\n",
       "    </tr>\n",
       "  </tbody>\n",
       "</table>\n",
       "</div>"
      ],
      "text/plain": [
       "             Age  No of Dependents  Total Salary         Price\n",
       "count  99.000000         99.000000  9.900000e+01  9.900000e+01\n",
       "mean   36.313131          2.181818  2.270707e+06  1.194040e+06\n",
       "std     6.246054          1.335265  1.050777e+06  4.376955e+05\n",
       "min    26.000000          0.000000  2.000000e+05  1.100000e+05\n",
       "25%    31.000000          2.000000  1.550000e+06  8.000000e+05\n",
       "50%    36.000000          2.000000  2.100000e+06  1.200000e+06\n",
       "75%    41.000000          3.000000  2.700000e+06  1.500000e+06\n",
       "max    51.000000          4.000000  5.200000e+06  3.000000e+06"
      ]
     },
     "execution_count": 5,
     "metadata": {},
     "output_type": "execute_result"
    }
   ],
   "source": [
    "df.describe()"
   ]
  },
  {
   "cell_type": "code",
   "execution_count": 6,
   "metadata": {
    "colab": {
     "base_uri": "https://localhost:8080/"
    },
    "id": "fR2XJjq0bFe9",
    "outputId": "a4fdd011-b3e4-4a70-b79f-14884f95f67e"
   },
   "outputs": [
    {
     "data": {
      "text/plain": [
       "Age                 0\n",
       "Profession          0\n",
       "Marrital Status     0\n",
       "Education           0\n",
       "No of Dependents    0\n",
       "Personal loan       0\n",
       "Total Salary        0\n",
       "Price               0\n",
       "dtype: int64"
      ]
     },
     "execution_count": 6,
     "metadata": {},
     "output_type": "execute_result"
    }
   ],
   "source": [
    "df.isnull().sum()"
   ]
  },
  {
   "cell_type": "markdown",
   "metadata": {
    "id": "gHfCAvvLbOyO"
   },
   "source": [
    "No null value is present in the dataset"
   ]
  },
  {
   "cell_type": "code",
   "execution_count": 7,
   "metadata": {
    "colab": {
     "base_uri": "https://localhost:8080/",
     "height": 206
    },
    "id": "FZlF7N0AbWRm",
    "outputId": "3fc4c6bd-a679-459d-c383-5cf22451ef07"
   },
   "outputs": [
    {
     "data": {
      "text/html": [
       "<div>\n",
       "<style scoped>\n",
       "    .dataframe tbody tr th:only-of-type {\n",
       "        vertical-align: middle;\n",
       "    }\n",
       "\n",
       "    .dataframe tbody tr th {\n",
       "        vertical-align: top;\n",
       "    }\n",
       "\n",
       "    .dataframe thead th {\n",
       "        text-align: right;\n",
       "    }\n",
       "</style>\n",
       "<table border=\"1\" class=\"dataframe\">\n",
       "  <thead>\n",
       "    <tr style=\"text-align: right;\">\n",
       "      <th></th>\n",
       "      <th>Age</th>\n",
       "      <th>Profession</th>\n",
       "      <th>Marrital Status</th>\n",
       "      <th>Education</th>\n",
       "      <th>No of Dependents</th>\n",
       "      <th>Car_Loan</th>\n",
       "      <th>Total Salary</th>\n",
       "      <th>EV_Price</th>\n",
       "    </tr>\n",
       "  </thead>\n",
       "  <tbody>\n",
       "    <tr>\n",
       "      <th>0</th>\n",
       "      <td>27</td>\n",
       "      <td>Salaried</td>\n",
       "      <td>Single</td>\n",
       "      <td>Post Graduate</td>\n",
       "      <td>0</td>\n",
       "      <td>Yes</td>\n",
       "      <td>800000</td>\n",
       "      <td>800000</td>\n",
       "    </tr>\n",
       "    <tr>\n",
       "      <th>1</th>\n",
       "      <td>35</td>\n",
       "      <td>Salaried</td>\n",
       "      <td>Married</td>\n",
       "      <td>Post Graduate</td>\n",
       "      <td>2</td>\n",
       "      <td>Yes</td>\n",
       "      <td>2000000</td>\n",
       "      <td>1000000</td>\n",
       "    </tr>\n",
       "    <tr>\n",
       "      <th>2</th>\n",
       "      <td>45</td>\n",
       "      <td>Business</td>\n",
       "      <td>Married</td>\n",
       "      <td>Graduate</td>\n",
       "      <td>4</td>\n",
       "      <td>Yes</td>\n",
       "      <td>1800000</td>\n",
       "      <td>1200000</td>\n",
       "    </tr>\n",
       "    <tr>\n",
       "      <th>3</th>\n",
       "      <td>41</td>\n",
       "      <td>Business</td>\n",
       "      <td>Married</td>\n",
       "      <td>Post Graduate</td>\n",
       "      <td>3</td>\n",
       "      <td>No</td>\n",
       "      <td>2200000</td>\n",
       "      <td>1200000</td>\n",
       "    </tr>\n",
       "    <tr>\n",
       "      <th>4</th>\n",
       "      <td>31</td>\n",
       "      <td>Salaried</td>\n",
       "      <td>Married</td>\n",
       "      <td>Post Graduate</td>\n",
       "      <td>2</td>\n",
       "      <td>Yes</td>\n",
       "      <td>2600000</td>\n",
       "      <td>1600000</td>\n",
       "    </tr>\n",
       "  </tbody>\n",
       "</table>\n",
       "</div>"
      ],
      "text/plain": [
       "   Age Profession Marrital Status      Education  No of Dependents Car_Loan  \\\n",
       "0   27   Salaried          Single  Post Graduate                 0      Yes   \n",
       "1   35   Salaried         Married  Post Graduate                 2      Yes   \n",
       "2   45   Business         Married       Graduate                 4      Yes   \n",
       "3   41   Business         Married  Post Graduate                 3       No   \n",
       "4   31   Salaried         Married  Post Graduate                 2      Yes   \n",
       "\n",
       "   Total Salary  EV_Price  \n",
       "0        800000    800000  \n",
       "1       2000000   1000000  \n",
       "2       1800000   1200000  \n",
       "3       2200000   1200000  \n",
       "4       2600000   1600000  "
      ]
     },
     "execution_count": 7,
     "metadata": {},
     "output_type": "execute_result"
    }
   ],
   "source": [
    "df.rename(columns={'Personal loan':'Car_Loan'},inplace=True)\n",
    "df.rename(columns={'Price':'EV_Price'},inplace=True)\n",
    "df.head()\n"
   ]
  },
  {
   "cell_type": "code",
   "execution_count": 8,
   "metadata": {
    "colab": {
     "base_uri": "https://localhost:8080/",
     "height": 296
    },
    "id": "q9xB99v4bl04",
    "outputId": "17369ca4-a3ab-477b-be66-ef4f624b8bef"
   },
   "outputs": [
    {
     "data": {
      "image/png": "[encoded data removed]",
      "text/plain": [
       "<Figure size 640x480 with 1 Axes>"
      ]
     },
     "metadata": {},
     "output_type": "display_data"
    }
   ],
   "source": [
    "# Plotting the Car loan status with respect to Marrital Status\n",
    "sns.countplot(x ='Marrital Status', hue = 'Car_Loan',  data = df, palette = 'Set2')\n",
    "plt.show()"
   ]
  },
  {
   "cell_type": "markdown",
   "metadata": {
    "id": "wHMVoIjneos8"
   },
   "source": [
    "**How many percentage of person are married**"
   ]
  },
  {
   "cell_type": "code",
   "execution_count": 9,
   "metadata": {
    "colab": {
     "base_uri": "https://localhost:8080/"
    },
    "id": "EDlFUrjrdYO6",
    "outputId": "d0e4887f-c8fd-41c2-d3fe-84c5f9e0391d"
   },
   "outputs": [
    {
     "name": "stdout",
     "output_type": "stream",
     "text": [
      "84 %\n"
     ]
    }
   ],
   "source": [
    "import math\n",
    "a =(df['Marrital Status'].value_counts()['Married'])/((df['Marrital Status'].value_counts()['Married'])+(df['Marrital Status'].value_counts()['Single']))*100\n",
    "print(math.floor(a),'%')"
   ]
  },
  {
   "cell_type": "markdown",
   "metadata": {
    "id": "9sqzwDnkgiUa"
   },
   "source": [
    "**How many person take loan for buying car** "
   ]
  },
  {
   "cell_type": "code",
   "execution_count": 10,
   "metadata": {
    "colab": {
     "base_uri": "https://localhost:8080/",
     "height": 248
    },
    "id": "tsAMe8G7ddsw",
    "outputId": "97dfc964-1a55-41bd-a9e7-a1011cbb7049"
   },
   "outputs": [
    {
     "data": {
      "image/png": "[encoded data removed]",
      "text/plain": [
       "<Figure size 640x480 with 1 Axes>"
      ]
     },
     "metadata": {},
     "output_type": "display_data"
    }
   ],
   "source": [
    "#Getting labels and data\n",
    "labels = ['Car Loan Required','Car Loan not required']\n",
    "Loan_status = [df.query('Car_Loan == \"Yes\"').Car_Loan.count(),df.query('Car_Loan == \"No\"').Car_Loan.count()]\n",
    "\n",
    "# declaring exploding pie\n",
    "explode = [0.1, 0]\n",
    "# define Seaborn color palette to use\n",
    "palette_color = sns.color_palette('pastel')\n",
    "  \n",
    "# plotting data on chart\n",
    "plt.pie(Loan_status, labels=labels, colors=palette_color, shadow = \"True\",\n",
    "        explode=explode, autopct='%1.1f%%')\n",
    "  \n",
    "# displaying chart\n",
    "plt.show()"
   ]
  },
  {
   "cell_type": "markdown",
   "metadata": {
    "id": "S8hqqQEhiYuc"
   },
   "source": [
    "**Plot the frequency of consumer features - Age, No. of dependents , Total Salary , EV_price**"
   ]
  },
  {
   "cell_type": "code",
   "execution_count": 11,
   "metadata": {
    "colab": {
     "base_uri": "https://localhost:8080/",
     "height": 351
    },
    "id": "pgQLwYbAg3wk",
    "outputId": "46920b3b-11c8-4dcb-b7e6-07e59e64f02b"
   },
   "outputs": [
    {
     "data": {
      "image/png": "[encoded data removed]",
      "text/plain": [
       "<Figure size 1500x500 with 4 Axes>"
      ]
     },
     "metadata": {},
     "output_type": "display_data"
    }
   ],
   "source": [
    "plt.figure(1, figsize=(15,5))\n",
    "n=0\n",
    "\n",
    "for x in ['Age', 'No of Dependents' ,'Total Salary'  ,'EV_Price']:\n",
    "  n += 1\n",
    "  plt.subplot(1,4,n)\n",
    "  plt.subplots_adjust(hspace=0.3, wspace=0.3)\n",
    "  sns.histplot(df[x], bins= 25)\n",
    "  plt.title(f'{x}')\n",
    "plt.show()"
   ]
  },
  {
   "cell_type": "markdown",
   "metadata": {
    "id": "TcHNbdaljqMd"
   },
   "source": [
    "Kmodes is similar to K means clustering when computing distance for continuous data using mean but for categorical data it uses the mode\n",
    "Frequency based dissimilarity measure\n",
    "\n",
    " Hence it is more preferrable for clustering multiple datatypes \n"
   ]
  },
  {
   "cell_type": "markdown",
   "metadata": {
    "id": "6TblzdcCkHGi"
   },
   "source": [
    "## <center>**Now we create cluster for customer** "
   ]
  },
  {
   "cell_type": "code",
   "execution_count": 12,
   "metadata": {
    "colab": {
     "base_uri": "https://localhost:8080/"
    },
    "id": "I7thTLHljiyM",
    "outputId": "d31507b9-e3c1-4149-cb41-5d43232cf40f"
   },
   "outputs": [
    {
     "name": "stdout",
     "output_type": "stream",
     "text": [
      "Collecting kmodes\n",
      "  Downloading kmodes-0.12.2-py2.py3-none-any.whl (20 kB)\n",
      "Requirement already satisfied: scikit-learn>=0.22.0 in c:\\users\\rchan\\anaconda3\\lib\\site-packages (from kmodes) (1.0.2)\n",
      "Requirement already satisfied: numpy>=1.10.4 in c:\\users\\rchan\\anaconda3\\lib\\site-packages (from kmodes) (1.21.5)\n",
      "Requirement already satisfied: scipy>=0.13.3 in c:\\users\\rchan\\anaconda3\\lib\\site-packages (from kmodes) (1.9.1)\n",
      "Requirement already satisfied: joblib>=0.11 in c:\\users\\rchan\\anaconda3\\lib\\site-packages (from kmodes) (1.2.0)\n",
      "Requirement already satisfied: threadpoolctl>=2.0.0 in c:\\users\\rchan\\anaconda3\\lib\\site-packages (from scikit-learn>=0.22.0->kmodes) (2.2.0)\n",
      "Installing collected packages: kmodes\n",
      "Successfully installed kmodes-0.12.2\n"
     ]
    }
   ],
   "source": [
    "!pip install kmodes\n",
    "from kmodes.kprototypes import KPrototypes"
   ]
  },
  {
   "cell_type": "code",
   "execution_count": 13,
   "metadata": {
    "colab": {
     "base_uri": "https://localhost:8080/",
     "height": 206
    },
    "id": "tzXQXStZkDJW",
    "outputId": "08d1828d-b5fb-4807-f48b-b612fd662d90"
   },
   "outputs": [
    {
     "data": {
      "text/html": [
       "<div>\n",
       "<style scoped>\n",
       "    .dataframe tbody tr th:only-of-type {\n",
       "        vertical-align: middle;\n",
       "    }\n",
       "\n",
       "    .dataframe tbody tr th {\n",
       "        vertical-align: top;\n",
       "    }\n",
       "\n",
       "    .dataframe thead th {\n",
       "        text-align: right;\n",
       "    }\n",
       "</style>\n",
       "<table border=\"1\" class=\"dataframe\">\n",
       "  <thead>\n",
       "    <tr style=\"text-align: right;\">\n",
       "      <th></th>\n",
       "      <th>Age</th>\n",
       "      <th>Profession</th>\n",
       "      <th>Marrital Status</th>\n",
       "      <th>Education</th>\n",
       "      <th>No of Dependents</th>\n",
       "      <th>Car_Loan</th>\n",
       "      <th>Total Salary</th>\n",
       "      <th>EV_Price</th>\n",
       "    </tr>\n",
       "  </thead>\n",
       "  <tbody>\n",
       "    <tr>\n",
       "      <th>0</th>\n",
       "      <td>27</td>\n",
       "      <td>Salaried</td>\n",
       "      <td>Single</td>\n",
       "      <td>Post Graduate</td>\n",
       "      <td>0</td>\n",
       "      <td>Yes</td>\n",
       "      <td>800000</td>\n",
       "      <td>800000</td>\n",
       "    </tr>\n",
       "    <tr>\n",
       "      <th>1</th>\n",
       "      <td>35</td>\n",
       "      <td>Salaried</td>\n",
       "      <td>Married</td>\n",
       "      <td>Post Graduate</td>\n",
       "      <td>2</td>\n",
       "      <td>Yes</td>\n",
       "      <td>2000000</td>\n",
       "      <td>1000000</td>\n",
       "    </tr>\n",
       "    <tr>\n",
       "      <th>2</th>\n",
       "      <td>45</td>\n",
       "      <td>Business</td>\n",
       "      <td>Married</td>\n",
       "      <td>Graduate</td>\n",
       "      <td>4</td>\n",
       "      <td>Yes</td>\n",
       "      <td>1800000</td>\n",
       "      <td>1200000</td>\n",
       "    </tr>\n",
       "    <tr>\n",
       "      <th>3</th>\n",
       "      <td>41</td>\n",
       "      <td>Business</td>\n",
       "      <td>Married</td>\n",
       "      <td>Post Graduate</td>\n",
       "      <td>3</td>\n",
       "      <td>No</td>\n",
       "      <td>2200000</td>\n",
       "      <td>1200000</td>\n",
       "    </tr>\n",
       "    <tr>\n",
       "      <th>4</th>\n",
       "      <td>31</td>\n",
       "      <td>Salaried</td>\n",
       "      <td>Married</td>\n",
       "      <td>Post Graduate</td>\n",
       "      <td>2</td>\n",
       "      <td>Yes</td>\n",
       "      <td>2600000</td>\n",
       "      <td>1600000</td>\n",
       "    </tr>\n",
       "  </tbody>\n",
       "</table>\n",
       "</div>"
      ],
      "text/plain": [
       "   Age Profession Marrital Status      Education  No of Dependents Car_Loan  \\\n",
       "0   27   Salaried          Single  Post Graduate                 0      Yes   \n",
       "1   35   Salaried         Married  Post Graduate                 2      Yes   \n",
       "2   45   Business         Married       Graduate                 4      Yes   \n",
       "3   41   Business         Married  Post Graduate                 3       No   \n",
       "4   31   Salaried         Married  Post Graduate                 2      Yes   \n",
       "\n",
       "   Total Salary  EV_Price  \n",
       "0        800000    800000  \n",
       "1       2000000   1000000  \n",
       "2       1800000   1200000  \n",
       "3       2200000   1200000  \n",
       "4       2600000   1600000  "
      ]
     },
     "execution_count": 13,
     "metadata": {},
     "output_type": "execute_result"
    }
   ],
   "source": [
    "df.head()"
   ]
  },
  {
   "cell_type": "code",
   "execution_count": 14,
   "metadata": {
    "id": "_Dy96Oh4kiis"
   },
   "outputs": [],
   "source": [
    "cluster_features = list(df.columns)\n",
    "cluster_data = df[cluster_features].values"
   ]
  },
  {
   "cell_type": "code",
   "execution_count": 15,
   "metadata": {
    "colab": {
     "base_uri": "https://localhost:8080/"
    },
    "id": "9W8jDob0kjiF",
    "outputId": "21414b9a-c694-4fb6-c572-7768a28309d9"
   },
   "outputs": [
    {
     "data": {
      "text/plain": [
       "array([27, 35, 45, 41, 31, 28, 31, 33, 34, 34, 35, 35, 29, 30, 31, 49, 26,\n",
       "       27, 29, 30, 37, 35, 36, 35, 35, 35, 35, 36, 36, 36, 41, 41, 41, 43,\n",
       "       42, 42, 29, 30, 30, 31, 31, 32, 32, 34, 34, 34, 36, 36, 36, 36, 49,\n",
       "       49, 44, 44, 41, 41, 41, 27, 27, 28, 28, 30, 31, 31, 31, 39, 39, 39,\n",
       "       39, 37, 37, 37, 37, 35, 36, 36, 36, 36, 44, 45, 46, 44, 43, 42, 42,\n",
       "       42, 29, 33, 34, 34, 35, 36, 37, 27, 27, 50, 51, 51, 51],\n",
       "      dtype=object)"
      ]
     },
     "execution_count": 15,
     "metadata": {},
     "output_type": "execute_result"
    }
   ],
   "source": [
    "cluster_data[:,0]"
   ]
  },
  {
   "cell_type": "code",
   "execution_count": 16,
   "metadata": {
    "id": "5CmjqjTKk4nv"
   },
   "outputs": [],
   "source": [
    "#change the datatype\n",
    "cluster_data[:, 0] = cluster_data[:, 0].astype(float)\n",
    "cluster_data[:, 4] = cluster_data[:, 4].astype(float)\n",
    "cluster_data[:, 6] = cluster_data[:, 6].astype(float)\n",
    "cluster_data[:, 7] = cluster_data[:, 7].astype(float)"
   ]
  },
  {
   "cell_type": "markdown",
   "metadata": {
    "id": "YCR3mz9_l0fy"
   },
   "source": [
    "**Finding optimal number of clusters for KPrototypes**"
   ]
  },
  {
   "cell_type": "code",
   "execution_count": 17,
   "metadata": {
    "colab": {
     "base_uri": "https://localhost:8080/",
     "height": 276
    },
    "id": "Mdd7H7xXlbIn",
    "outputId": "92f5ea3e-c9c4-459a-ee68-43bec4fb63ec"
   },
   "outputs": [
    {
     "data": {
      "image/png": "[encoded data removed]",
      "text/plain": [
       "<Figure size 640x480 with 1 Axes>"
      ]
     },
     "metadata": {},
     "output_type": "display_data"
    }
   ],
   "source": [
    "cost = []\n",
    "for num_clusters in list(range(1,8)):\n",
    "    kproto = KPrototypes(n_clusters=num_clusters, init='Cao')\n",
    "    kproto.fit_predict(cluster_data, categorical=[1,2,3,5])\n",
    "    cost.append(kproto.cost_)\n",
    "\n",
    "plt.plot(cost)\n",
    "plt.show()"
   ]
  },
  {
   "cell_type": "code",
   "execution_count": 18,
   "metadata": {
    "colab": {
     "base_uri": "https://localhost:8080/"
    },
    "id": "AKpVBFyFlpra",
    "outputId": "1ada6fd6-b163-4ef4-dacd-f6adc9ead057"
   },
   "outputs": [
    {
     "data": {
      "text/plain": [
       "[126979657487180.34,\n",
       " 48631729380526.18,\n",
       " 25087753148183.234,\n",
       " 18491809410726.285,\n",
       " 15735389709414.992,\n",
       " 11636836256958.104,\n",
       " 9899011952147.764]"
      ]
     },
     "execution_count": 18,
     "metadata": {},
     "output_type": "execute_result"
    }
   ],
   "source": [
    "cost"
   ]
  },
  {
   "cell_type": "markdown",
   "metadata": {
    "id": "yZ1suZA3l9EC"
   },
   "source": [
    "**fitting data to cluster"
   ]
  },
  {
   "cell_type": "code",
   "execution_count": 19,
   "metadata": {
    "colab": {
     "base_uri": "https://localhost:8080/"
    },
    "id": "NeopUBCIl6Vi",
    "outputId": "26d688cc-b688-4e9d-eb0b-f329c135cfa6"
   },
   "outputs": [
    {
     "name": "stdout",
     "output_type": "stream",
     "text": [
      "Initialization method and algorithm are deterministic. Setting n_init to 1.\n",
      "Init: initializing centroids\n",
      "Init: initializing clusters\n",
      "Starting iterations...\n",
      "Run: 1, iteration: 1/20, moves: 38, ncost: 60593966305440.77\n",
      "Run: 1, iteration: 2/20, moves: 20, ncost: 50447073534650.24\n",
      "Run: 1, iteration: 3/20, moves: 3, ncost: 50057040964014.66\n",
      "Run: 1, iteration: 4/20, moves: 1, ncost: 50020391397205.32\n",
      "Run: 1, iteration: 5/20, moves: 0, ncost: 50020391397205.32\n",
      "Init: initializing centroids\n",
      "Init: initializing clusters\n",
      "Starting iterations...\n",
      "Run: 2, iteration: 1/20, moves: 7, ncost: 48631729380526.18\n",
      "Run: 2, iteration: 2/20, moves: 0, ncost: 48631729380526.18\n",
      "Init: initializing centroids\n",
      "Init: initializing clusters\n",
      "Starting iterations...\n",
      "Run: 3, iteration: 1/20, moves: 3, ncost: 49650723166357.79\n",
      "Run: 3, iteration: 2/20, moves: 4, ncost: 48777842651066.98\n",
      "Run: 3, iteration: 3/20, moves: 0, ncost: 48777842651066.98\n",
      "Init: initializing centroids\n",
      "Init: initializing clusters\n",
      "Starting iterations...\n",
      "Run: 4, iteration: 1/20, moves: 4, ncost: 48616816198579.65\n",
      "Run: 4, iteration: 2/20, moves: 0, ncost: 48616816198579.65\n",
      "Init: initializing centroids\n",
      "Init: initializing clusters\n",
      "Starting iterations...\n",
      "Run: 5, iteration: 1/20, moves: 14, ncost: 50256375135018.81\n",
      "Run: 5, iteration: 2/20, moves: 2, ncost: 50057040964014.66\n",
      "Run: 5, iteration: 3/20, moves: 1, ncost: 50020391397205.32\n",
      "Run: 5, iteration: 4/20, moves: 0, ncost: 50020391397205.32\n",
      "Init: initializing centroids\n",
      "Init: initializing clusters\n",
      "Starting iterations...\n",
      "Run: 6, iteration: 1/20, moves: 17, ncost: 50447073534650.24\n",
      "Run: 6, iteration: 2/20, moves: 3, ncost: 50057040964014.66\n",
      "Run: 6, iteration: 3/20, moves: 1, ncost: 50020391397205.32\n",
      "Run: 6, iteration: 4/20, moves: 0, ncost: 50020391397205.32\n",
      "Init: initializing centroids\n",
      "Init: initializing clusters\n",
      "Starting iterations...\n",
      "Run: 7, iteration: 1/20, moves: 0, ncost: 48631729380526.18\n",
      "Init: initializing centroids\n",
      "Init: initializing clusters\n",
      "Starting iterations...\n",
      "Run: 8, iteration: 1/20, moves: 10, ncost: 50057040964014.66\n",
      "Run: 8, iteration: 2/20, moves: 1, ncost: 50020391397205.32\n",
      "Run: 8, iteration: 3/20, moves: 0, ncost: 50020391397205.32\n",
      "Init: initializing centroids\n",
      "Init: initializing clusters\n",
      "Starting iterations...\n",
      "Run: 9, iteration: 1/20, moves: 5, ncost: 48631729380526.18\n",
      "Run: 9, iteration: 2/20, moves: 0, ncost: 48631729380526.18\n",
      "Init: initializing centroids\n",
      "Init: initializing clusters\n",
      "Starting iterations...\n",
      "Run: 10, iteration: 1/20, moves: 8, ncost: 50057040964014.66\n",
      "Run: 10, iteration: 2/20, moves: 1, ncost: 50020391397205.32\n",
      "Run: 10, iteration: 3/20, moves: 0, ncost: 50020391397205.32\n",
      "Best run was number 4\n"
     ]
    }
   ],
   "source": [
    "kproto = KPrototypes(n_clusters=2, verbose=2,max_iter=20)\n",
    "clusters = kproto.fit_predict(cluster_data, categorical=[1,2,3,5])"
   ]
  },
  {
   "cell_type": "code",
   "execution_count": 20,
   "metadata": {
    "id": "a4ppONXwmcNy"
   },
   "outputs": [],
   "source": [
    "#Appending the cluster data\n",
    "df['Cluster'] = clusters"
   ]
  },
  {
   "cell_type": "code",
   "execution_count": 21,
   "metadata": {
    "colab": {
     "base_uri": "https://localhost:8080/",
     "height": 206
    },
    "id": "4k295C0-mvl3",
    "outputId": "3eaa1913-65a9-498d-e0f7-89880b7e441f"
   },
   "outputs": [
    {
     "data": {
      "text/html": [
       "<div>\n",
       "<style scoped>\n",
       "    .dataframe tbody tr th:only-of-type {\n",
       "        vertical-align: middle;\n",
       "    }\n",
       "\n",
       "    .dataframe tbody tr th {\n",
       "        vertical-align: top;\n",
       "    }\n",
       "\n",
       "    .dataframe thead th {\n",
       "        text-align: right;\n",
       "    }\n",
       "</style>\n",
       "<table border=\"1\" class=\"dataframe\">\n",
       "  <thead>\n",
       "    <tr style=\"text-align: right;\">\n",
       "      <th></th>\n",
       "      <th>Age</th>\n",
       "      <th>Profession</th>\n",
       "      <th>Marrital Status</th>\n",
       "      <th>Education</th>\n",
       "      <th>No of Dependents</th>\n",
       "      <th>Car_Loan</th>\n",
       "      <th>Total Salary</th>\n",
       "      <th>EV_Price</th>\n",
       "      <th>Cluster</th>\n",
       "    </tr>\n",
       "  </thead>\n",
       "  <tbody>\n",
       "    <tr>\n",
       "      <th>0</th>\n",
       "      <td>27</td>\n",
       "      <td>Salaried</td>\n",
       "      <td>Single</td>\n",
       "      <td>Post Graduate</td>\n",
       "      <td>0</td>\n",
       "      <td>Yes</td>\n",
       "      <td>800000</td>\n",
       "      <td>800000</td>\n",
       "      <td>1</td>\n",
       "    </tr>\n",
       "    <tr>\n",
       "      <th>1</th>\n",
       "      <td>35</td>\n",
       "      <td>Salaried</td>\n",
       "      <td>Married</td>\n",
       "      <td>Post Graduate</td>\n",
       "      <td>2</td>\n",
       "      <td>Yes</td>\n",
       "      <td>2000000</td>\n",
       "      <td>1000000</td>\n",
       "      <td>1</td>\n",
       "    </tr>\n",
       "    <tr>\n",
       "      <th>2</th>\n",
       "      <td>45</td>\n",
       "      <td>Business</td>\n",
       "      <td>Married</td>\n",
       "      <td>Graduate</td>\n",
       "      <td>4</td>\n",
       "      <td>Yes</td>\n",
       "      <td>1800000</td>\n",
       "      <td>1200000</td>\n",
       "      <td>1</td>\n",
       "    </tr>\n",
       "    <tr>\n",
       "      <th>3</th>\n",
       "      <td>41</td>\n",
       "      <td>Business</td>\n",
       "      <td>Married</td>\n",
       "      <td>Post Graduate</td>\n",
       "      <td>3</td>\n",
       "      <td>No</td>\n",
       "      <td>2200000</td>\n",
       "      <td>1200000</td>\n",
       "      <td>1</td>\n",
       "    </tr>\n",
       "    <tr>\n",
       "      <th>4</th>\n",
       "      <td>31</td>\n",
       "      <td>Salaried</td>\n",
       "      <td>Married</td>\n",
       "      <td>Post Graduate</td>\n",
       "      <td>2</td>\n",
       "      <td>Yes</td>\n",
       "      <td>2600000</td>\n",
       "      <td>1600000</td>\n",
       "      <td>1</td>\n",
       "    </tr>\n",
       "  </tbody>\n",
       "</table>\n",
       "</div>"
      ],
      "text/plain": [
       "   Age Profession Marrital Status      Education  No of Dependents Car_Loan  \\\n",
       "0   27   Salaried          Single  Post Graduate                 0      Yes   \n",
       "1   35   Salaried         Married  Post Graduate                 2      Yes   \n",
       "2   45   Business         Married       Graduate                 4      Yes   \n",
       "3   41   Business         Married  Post Graduate                 3       No   \n",
       "4   31   Salaried         Married  Post Graduate                 2      Yes   \n",
       "\n",
       "   Total Salary  EV_Price  Cluster  \n",
       "0        800000    800000        1  \n",
       "1       2000000   1000000        1  \n",
       "2       1800000   1200000        1  \n",
       "3       2200000   1200000        1  \n",
       "4       2600000   1600000        1  "
      ]
     },
     "execution_count": 21,
     "metadata": {},
     "output_type": "execute_result"
    }
   ],
   "source": [
    "df.head()"
   ]
  },
  {
   "cell_type": "code",
   "execution_count": 22,
   "metadata": {
    "colab": {
     "base_uri": "https://localhost:8080/"
    },
    "id": "-HRLWXD2m2YW",
    "outputId": "ca7f0b3f-2927-42e6-d324-5a0159cb6b77"
   },
   "outputs": [
    {
     "data": {
      "text/plain": [
       "1194040.4040404041"
      ]
     },
     "execution_count": 22,
     "metadata": {},
     "output_type": "execute_result"
    }
   ],
   "source": [
    "# Average cost of the EV\n",
    "df.EV_Price.mean()"
   ]
  },
  {
   "cell_type": "code",
   "execution_count": 23,
   "metadata": {
    "colab": {
     "base_uri": "https://localhost:8080/"
    },
    "id": "X-vcZK1gm9Wi",
    "outputId": "6f7b7eed-77df-4577-ae27-b854725365b6"
   },
   "outputs": [
    {
     "data": {
      "text/plain": [
       "1633333.3333333333"
      ]
     },
     "execution_count": 23,
     "metadata": {},
     "output_type": "execute_result"
    }
   ],
   "source": [
    "# Average cost of a car in segment 1 \n",
    "df.EV_Price[df.Cluster==0].mean()"
   ]
  },
  {
   "cell_type": "code",
   "execution_count": 24,
   "metadata": {
    "colab": {
     "base_uri": "https://localhost:8080/"
    },
    "id": "YOu87i8soSeA",
    "outputId": "ac2988a5-b68b-40a2-9f9f-774f8a666429"
   },
   "outputs": [
    {
     "data": {
      "text/plain": [
       "1029305.5555555555"
      ]
     },
     "execution_count": 24,
     "metadata": {},
     "output_type": "execute_result"
    }
   ],
   "source": [
    "# Average cost of a car in segment 1 \n",
    "df.EV_Price[df.Cluster==1].mean()"
   ]
  },
  {
   "cell_type": "code",
   "execution_count": 25,
   "metadata": {
    "colab": {
     "base_uri": "https://localhost:8080/"
    },
    "id": "Ex-FESEMosU7",
    "outputId": "8634e23d-881a-4746-f9c2-322631fbcbf8"
   },
   "outputs": [
    {
     "data": {
      "text/plain": [
       "1600000"
      ]
     },
     "execution_count": 25,
     "metadata": {},
     "output_type": "execute_result"
    }
   ],
   "source": [
    "df['EV_Price'][df.Cluster==1].max()"
   ]
  },
  {
   "cell_type": "code",
   "execution_count": 26,
   "metadata": {
    "colab": {
     "base_uri": "https://localhost:8080/"
    },
    "id": "i6-QUKRto0Yv",
    "outputId": "957e8a1c-8e68-4e02-ad78-467d3915bb89"
   },
   "outputs": [
    {
     "data": {
      "text/plain": [
       "1029305.5555555555"
      ]
     },
     "execution_count": 26,
     "metadata": {},
     "output_type": "execute_result"
    }
   ],
   "source": [
    "# Average cost of a car in segment 1 \n",
    "df.EV_Price[df.Cluster==1].mean()"
   ]
  },
  {
   "cell_type": "code",
   "execution_count": 27,
   "metadata": {
    "colab": {
     "base_uri": "https://localhost:8080/"
    },
    "id": "1G34h3kNtysh",
    "outputId": "513a03b2-9077-4b16-eb31-fde8efc90bb7"
   },
   "outputs": [
    {
     "data": {
      "text/plain": [
       "1    72.727273\n",
       "0    27.272727\n",
       "Name: Cluster, dtype: float64"
      ]
     },
     "execution_count": 27,
     "metadata": {},
     "output_type": "execute_result"
    }
   ],
   "source": [
    "df['Cluster'].value_counts(normalize=True) * 100"
   ]
  },
  {
   "cell_type": "markdown",
   "metadata": {
    "id": "KwGgSY5fuIuu"
   },
   "source": [
    "**Segregrating  each cluster**"
   ]
  },
  {
   "cell_type": "code",
   "execution_count": 28,
   "metadata": {
    "id": "dDl6ieyVuNSn"
   },
   "outputs": [],
   "source": [
    "Cluster_0 = df[df.Cluster==0]\n",
    "Cluster_1 = df[df.Cluster==1]"
   ]
  },
  {
   "cell_type": "code",
   "execution_count": 29,
   "metadata": {
    "colab": {
     "base_uri": "https://localhost:8080/"
    },
    "id": "siDyn-VguVgS",
    "outputId": "ff3f0486-534c-4f11-ac7f-de969befe5d2"
   },
   "outputs": [
    {
     "data": {
      "text/plain": [
       "1    72\n",
       "0    27\n",
       "Name: Cluster, dtype: int64"
      ]
     },
     "execution_count": 29,
     "metadata": {},
     "output_type": "execute_result"
    }
   ],
   "source": [
    "df['Cluster'].value_counts()"
   ]
  },
  {
   "cell_type": "markdown",
   "metadata": {
    "id": "EUEm6f3dvA3B"
   },
   "source": [
    "**Plotting the effect of salary and evs price on cluster data**"
   ]
  },
  {
   "cell_type": "code",
   "execution_count": 30,
   "metadata": {
    "colab": {
     "base_uri": "https://localhost:8080/",
     "height": 290
    },
    "id": "rRIXtG18uhv0",
    "outputId": "80e16e99-d690-49a8-a575-9cc8977bb8dd"
   },
   "outputs": [
    {
     "data": {
      "image/png": "[encoded data removed]",
      "text/plain": [
       "<Figure size 640x480 with 1 Axes>"
      ]
     },
     "metadata": {},
     "output_type": "display_data"
    }
   ],
   "source": [
    "plt.scatter(Cluster_0.EV_Price, Cluster_0['Total Salary'],color='red', marker = 'x', label = 'Cluster 1')\n",
    "plt.scatter(Cluster_1.EV_Price, Cluster_1['Total Salary'],color='green', label = 'Cluster 2')\n",
    "plt.legend(loc=\"upper left\")\n",
    "\n",
    "plt.xlabel('EV Price')\n",
    "plt.ylabel('Total salary')\n",
    "plt.show()"
   ]
  },
  {
   "cell_type": "markdown",
   "metadata": {
    "id": "Mfai7tpfvShu"
   },
   "source": [
    "There is a clear difference in segments when comparing salary and price of EV purchased"
   ]
  },
  {
   "cell_type": "markdown",
   "metadata": {
    "id": "fzHcvZ0DxSs-"
   },
   "source": [
    "**Plotting the effect of age and evs price on cluster data**"
   ]
  },
  {
   "cell_type": "code",
   "execution_count": 31,
   "metadata": {
    "colab": {
     "base_uri": "https://localhost:8080/",
     "height": 279
    },
    "id": "kT_sToNevebO",
    "outputId": "1930d5b9-1ec3-4d9e-cb01-0e8b64953284"
   },
   "outputs": [
    {
     "data": {
      "image/png": "[encoded data removed]",
      "text/plain": [
       "<Figure size 640x480 with 1 Axes>"
      ]
     },
     "metadata": {},
     "output_type": "display_data"
    }
   ],
   "source": [
    "plt.scatter(Cluster_0.EV_Price, Cluster_0['Age'],color='red', marker = 'x', label = 'Cluster 1')\n",
    "plt.scatter(Cluster_1.EV_Price, Cluster_1['Age'],color='green', label = 'Cluster 2')\n",
    "plt.legend(loc = \"upper left\")\n",
    "\n",
    "plt.xlabel('EV Price')\n",
    "plt.ylabel('Age')\n",
    "plt.show()"
   ]
  },
  {
   "cell_type": "code",
   "execution_count": 32,
   "metadata": {
    "id": "ABM3q8fTxelu"
   },
   "outputs": [],
   "source": [
    "from mpl_toolkits.mplot3d import Axes3D"
   ]
  },
  {
   "cell_type": "markdown",
   "metadata": {
    "id": "vX9bYkK6xi4Y"
   },
   "source": [
    "**plotting influence of age**"
   ]
  },
  {
   "cell_type": "code",
   "execution_count": 33,
   "metadata": {
    "colab": {
     "base_uri": "https://localhost:8080/",
     "height": 466
    },
    "id": "HZuyfz-Yxg_o",
    "outputId": "90640ebb-0033-4f25-dde2-f63089a26968"
   },
   "outputs": [
    {
     "data": {
      "image/png": "[encoded data removed]",
      "text/plain": [
       "<Figure size 800x800 with 1 Axes>"
      ]
     },
     "metadata": {},
     "output_type": "display_data"
    }
   ],
   "source": [
    "fig = plt.figure(figsize=(8,8))\n",
    "\n",
    "ax = fig.add_subplot(111, projection='3d')\n",
    "\n",
    "ax.scatter(Cluster_0.EV_Price, Cluster_0['Total Salary'], Cluster_0['Age'], color='red', marker = 'x', label = 'Cluster 1')\n",
    "ax.scatter(Cluster_1.EV_Price, Cluster_1['Total Salary'],Cluster_1['Age'], color='green', label = 'Cluster 2')\n",
    "plt.legend(loc = 'upper left')\n",
    "\n",
    "ax.view_init(10, 20)\n",
    "\n",
    "plt.xlabel(\"EV Price\")\n",
    "plt.ylabel(\"Total Salary\")\n",
    "ax.set_zlabel('Age')\n",
    "plt.show()"
   ]
  },
  {
   "cell_type": "code",
   "execution_count": 34,
   "metadata": {
    "colab": {
     "base_uri": "https://localhost:8080/"
    },
    "id": "Auxmsb7mxsEK",
    "outputId": "124fd2ad-6775-4356-e867-ba5a330c59ee"
   },
   "outputs": [
    {
     "data": {
      "text/plain": [
       "3    34\n",
       "2    29\n",
       "0    22\n",
       "4    14\n",
       "Name: No of Dependents, dtype: int64"
      ]
     },
     "execution_count": 34,
     "metadata": {},
     "output_type": "execute_result"
    }
   ],
   "source": [
    "df['No of Dependents'].value_counts()"
   ]
  },
  {
   "cell_type": "markdown",
   "metadata": {
    "id": "zoNveF0f2hPU"
   },
   "source": [
    "**plotting the effct of no of dependents and ev price on cluster data**\n",
    "\n"
   ]
  },
  {
   "cell_type": "code",
   "execution_count": 35,
   "metadata": {
    "colab": {
     "base_uri": "https://localhost:8080/",
     "height": 279
    },
    "id": "tj6SO-sq2juk",
    "outputId": "054f8d14-89af-4d84-8989-24f466ea2816"
   },
   "outputs": [
    {
     "data": {
      "image/png": "[encoded data removed]",
      "text/plain": [
       "<Figure size 640x480 with 1 Axes>"
      ]
     },
     "metadata": {},
     "output_type": "display_data"
    }
   ],
   "source": [
    "plt.scatter(Cluster_1.EV_Price, Cluster_1['No of Dependents'],color='green', label = 'Cluster 2')\n",
    "plt.scatter(Cluster_0.EV_Price, Cluster_0['No of Dependents'],color='red', marker = 'x', label = 'Cluster 1')\n",
    "plt.legend(loc=\"lower right\")\n",
    "\n",
    "plt.xlabel('EV Price')\n",
    "plt.ylabel('No of Dependents')\n",
    "plt.show()"
   ]
  },
  {
   "cell_type": "markdown",
   "metadata": {
    "id": "-TRl-c1h26GF"
   },
   "source": [
    "there is a clear difference in segments when comparing salary and the price of EV purchased"
   ]
  }
 ],
 "metadata": {
  "colab": {
   "provenance": []
  },
  "kernelspec": {
   "display_name": "Python 3 (ipykernel)",
   "language": "python",
   "name": "python3"
  },
  "language_info": {
   "codemirror_mode": {
    "name": "ipython",
    "version": 3
   },
   "file_extension": ".py",
   "mimetype": "text/x-python",
   "name": "python",
   "nbconvert_exporter": "python",
   "pygments_lexer": "ipython3",
   "version": "3.9.13"
  }
 },
 "nbformat": 4,
 "nbformat_minor": 1
}
